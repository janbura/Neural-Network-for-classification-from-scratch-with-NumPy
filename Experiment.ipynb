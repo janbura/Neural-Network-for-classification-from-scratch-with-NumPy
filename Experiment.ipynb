{
 "cells": [
  {
   "cell_type": "markdown",
   "source": [
    "# Experiment - NumPy neural network vs PyTorch neural network\n"
   ],
   "metadata": {
    "collapsed": false
   },
   "id": "393c606183fc8207"
  },
  {
   "cell_type": "code",
   "execution_count": 1,
   "outputs": [
    {
     "name": "stderr",
     "output_type": "stream",
     "text": [
      "/Users/janburakowski/anaconda3/lib/python3.11/site-packages/tqdm/auto.py:21: TqdmWarning: IProgress not found. Please update jupyter and ipywidgets. See https://ipywidgets.readthedocs.io/en/stable/user_install.html\n",
      "  from .autonotebook import tqdm as notebook_tqdm\n"
     ]
    }
   ],
   "source": [
    "import torch\n",
    "import torchvision\n",
    "import torchvision.transforms as transforms\n",
    "import torch.nn as nn\n",
    "import torch.optim as optim\n",
    "from necessary_functions import (gradient_descent, forward_prop, get_accuracy, get_predictions, visualize_samples, PyTorchModel, train_pytorch_model, evaluate_numpy_model, evaluate_pytorch_model,  plot_heatmap)\n",
    "import numpy as np\n",
    "import matplotlib.pyplot as plt\n",
    "from sklearn.metrics import confusion_matrix, classification_report\n",
    "import seaborn as sns"
   ],
   "metadata": {
    "collapsed": false,
    "ExecuteTime": {
     "end_time": "2025-03-03T16:46:23.880140Z",
     "start_time": "2025-03-03T16:46:21.038302Z"
    }
   },
   "id": "b37c86fb58f2e966"
  },
  {
   "cell_type": "markdown",
   "source": [
    "First I will set the seed for reproducibility"
   ],
   "metadata": {
    "collapsed": false
   },
   "id": "5eb46d35c0c39f3"
  },
  {
   "cell_type": "code",
   "execution_count": 2,
   "outputs": [
    {
     "data": {
      "text/plain": "<torch._C.Generator at 0x160b1dc30>"
     },
     "execution_count": 2,
     "metadata": {},
     "output_type": "execute_result"
    }
   ],
   "source": [
    "np.random.seed(42)\n",
    "torch.manual_seed(42)"
   ],
   "metadata": {
    "collapsed": false,
    "ExecuteTime": {
     "end_time": "2025-03-03T16:46:23.886434Z",
     "start_time": "2025-03-03T16:46:23.879498Z"
    }
   },
   "id": "5c02dd88b8304b7a"
  },
  {
   "cell_type": "code",
   "execution_count": 3,
   "outputs": [
    {
     "data": {
      "text/plain": "<Figure size 1500x300 with 10 Axes>",
      "image/png": "[encoded data removed]"
     },
     "metadata": {},
     "output_type": "display_data"
    },
    {
     "name": "stdout",
     "output_type": "stream",
     "text": [
      "Train Set: (60000, 784), Test Set: (10000, 784)\n"
     ]
    }
   ],
   "source": [
    "#defining transformation: Convert image to tensor and normalize\n",
    "transform = transforms.Compose([\n",
    "    transforms.ToTensor(),\n",
    "    transforms.Normalize((0.5,), (0.5,))  #normalizing pixel values to [-1,1] for PyTorch\n",
    "])\n",
    "\n",
    "# Load MNIST dataset\n",
    "train_dataset = torchvision.datasets.MNIST(root=\"./data\", train=True, transform=transform, download=True)\n",
    "test_dataset = torchvision.datasets.MNIST(root=\"./data\", train=False, transform=transform, download=True)\n",
    "\n",
    "# Create DataLoader for PyTorch training\n",
    "batch_size = 64 # Set batch size\n",
    "train_loader = torch.utils.data.DataLoader(train_dataset, batch_size=batch_size, shuffle=True)\n",
    "test_loader = torch.utils.data.DataLoader(test_dataset, batch_size=batch_size, shuffle=False)\n",
    "\n",
    "# converting MNIST dataset to NumPy format for NumPy-based network\n",
    "X_train_np = train_dataset.data.numpy().reshape(-1, 784) / 255.0  # Flatten images, normalize to [0,1]\n",
    "Y_train_np = train_dataset.targets.numpy()\n",
    "\n",
    "X_test_np = test_dataset.data.numpy().reshape(-1, 784) / 255.0  # Flatten images, normalize to [0,1]\n",
    "Y_test_np = test_dataset.targets.numpy()\n",
    "\n",
    "visualize_samples(train_dataset, num_samples=10)\n",
    "\n",
    "print(f\"Train Set: {X_train_np.shape}, Test Set: {X_test_np.shape}\")"
   ],
   "metadata": {
    "collapsed": false,
    "ExecuteTime": {
     "end_time": "2025-03-03T16:46:24.636979Z",
     "start_time": "2025-03-03T16:46:23.886874Z"
    }
   },
   "id": "45bac3411256bef8"
  },
  {
   "cell_type": "code",
   "execution_count": 4,
   "outputs": [
    {
     "name": "stdout",
     "output_type": "stream",
     "text": [
      "PyTorch Model - Epoch 0, Accuracy: 0.6265\n",
      "PyTorch Model - Epoch 100, Accuracy: 0.8706\n",
      "PyTorch Model - Epoch 200, Accuracy: 0.8753\n",
      "PyTorch Model - Epoch 300, Accuracy: 0.8776\n",
      "PyTorch Model - Epoch 400, Accuracy: 0.8782\n"
     ]
    }
   ],
   "source": [
    "pytorch_model = PyTorchModel()\n",
    "pytorch_accuracies = train_pytorch_model(pytorch_model, train_loader, 500)"
   ],
   "metadata": {
    "collapsed": false,
    "ExecuteTime": {
     "end_time": "2025-03-03T17:07:37.231959Z",
     "start_time": "2025-03-03T16:46:24.632965Z"
    }
   },
   "id": "20b27f8e409dd6e9"
  },
  {
   "cell_type": "code",
   "execution_count": 6,
   "outputs": [
    {
     "name": "stdout",
     "output_type": "stream",
     "text": [
      "Iteration 0 - Accuracy: 0.1575\n",
      "Iteration 100 - Accuracy: 0.5821\n",
      "Iteration 200 - Accuracy: 0.7230\n",
      "Iteration 300 - Accuracy: 0.7735\n",
      "Iteration 400 - Accuracy: 0.8066\n"
     ]
    }
   ],
   "source": [
    "\n",
    "W1, b1, W2, b2 = gradient_descent(X_train_np.T, Y_train_np, 0.1, 500)\n"
   ],
   "metadata": {
    "collapsed": false,
    "ExecuteTime": {
     "end_time": "2025-03-03T17:08:31.149022Z",
     "start_time": "2025-03-03T17:07:37.255217Z"
    }
   },
   "id": "9f1c39f0c54971a5"
  },
  {
   "cell_type": "code",
   "execution_count": null,
   "outputs": [],
   "source": [
    "# Evaluate NumPy Model\n",
    "numpy_test_accuracy, numpy_predictions = evaluate_numpy_model(W1, b1, W2, b2, X_test_np, Y_test_np)\n",
    "\n",
    "# Evaluate PyTorch Model\n",
    "pytorch_test_accuracy, pytorch_predictions, pytorch_labels = evaluate_pytorch_model(pytorch_model, test_loader)\n",
    "\n",
    "# Plot Heatmaps\n",
    "plot_heatmap(Y_test_np, numpy_predictions, model_name=\"NumPy Model\")\n",
    "plot_heatmap(pytorch_labels, pytorch_predictions, model_name=\"PyTorch Model\")\n",
    "\n"
   ],
   "metadata": {
    "collapsed": false,
    "is_executing": true
   },
   "id": "678953c370a1d902"
  },
  {
   "cell_type": "code",
   "execution_count": 9,
   "outputs": [],
   "source": [
    "\n"
   ],
   "metadata": {
    "collapsed": false,
    "ExecuteTime": {
     "end_time": "2025-03-03T17:08:33.070497Z",
     "start_time": "2025-03-03T17:08:32.575033Z"
    }
   },
   "id": "622f2b5e56ad560"
  },
  {
   "cell_type": "markdown",
   "source": [],
   "metadata": {
    "collapsed": false
   },
   "id": "4f3bd734355e3992"
  }
 ],
 "metadata": {
  "kernelspec": {
   "display_name": "Python 3",
   "language": "python",
   "name": "python3"
  },
  "language_info": {
   "codemirror_mode": {
    "name": "ipython",
    "version": 2
   },
   "file_extension": ".py",
   "mimetype": "text/x-python",
   "name": "python",
   "nbconvert_exporter": "python",
   "pygments_lexer": "ipython2",
   "version": "2.7.6"
  }
 },
 "nbformat": 4,
 "nbformat_minor": 5
}
