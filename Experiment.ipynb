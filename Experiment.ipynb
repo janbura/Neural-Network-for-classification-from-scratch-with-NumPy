{
 "cells": [
  {
   "cell_type": "markdown",
   "source": [
    "# Experiment - NumPy neural network vs PyTorch neural network\n"
   ],
   "metadata": {
    "collapsed": false
   },
   "id": "393c606183fc8207"
  },
  {
   "cell_type": "code",
   "execution_count": null,
   "outputs": [],
   "source": [
    "import torch\n",
    "import torchvision\n",
    "import torchvision.transforms as transforms\n",
    "import torch.nn as nn\n",
    "import torch.optim as optim\n",
    "from necessary_functions import (gradient_descent, forward_prop, get_accuracy, get_predictions, visualize_samples, PyTorchModel, train_pytorch_model, evaluate_numpy_model, evaluate_pytorch_model,  plot_heatmap)\n",
    "import numpy as np\n",
    "import matplotlib.pyplot as plt\n",
    "from sklearn.metrics import confusion_matrix, classification_report\n",
    "import seaborn as sns"
   ],
   "metadata": {
    "collapsed": false,
    "is_executing": true,
    "ExecuteTime": {
     "start_time": "2025-03-03T16:46:21.038302Z"
    }
   },
   "id": "b37c86fb58f2e966"
  },
  {
   "cell_type": "markdown",
   "source": [
    "First I will set the seed for reproducibility"
   ],
   "metadata": {
    "collapsed": false
   },
   "id": "5eb46d35c0c39f3"
  },
  {
   "cell_type": "code",
   "execution_count": null,
   "outputs": [],
   "source": [
    "np.random.seed(42)\n",
    "torch.manual_seed(42)"
   ],
   "metadata": {
    "collapsed": false,
    "is_executing": true
   },
   "id": "5c02dd88b8304b7a"
  },
  {
   "cell_type": "code",
   "execution_count": null,
   "outputs": [],
   "source": [
    "#defining transformation: Convert image to tensor and normalize\n",
    "transform = transforms.Compose([\n",
    "    transforms.ToTensor(),\n",
    "    transforms.Normalize((0.5,), (0.5,))  #normalizing pixel values to [-1,1] for PyTorch\n",
    "])\n",
    "\n",
    "# Load MNIST dataset\n",
    "train_dataset = torchvision.datasets.MNIST(root=\"./data\", train=True, transform=transform, download=True)\n",
    "test_dataset = torchvision.datasets.MNIST(root=\"./data\", train=False, transform=transform, download=True)\n",
    "\n",
    "# Create DataLoader for PyTorch training\n",
    "batch_size = 64 # Set batch size\n",
    "train_loader = torch.utils.data.DataLoader(train_dataset, batch_size=batch_size, shuffle=True)\n",
    "test_loader = torch.utils.data.DataLoader(test_dataset, batch_size=batch_size, shuffle=False)\n",
    "\n",
    "# converting MNIST dataset to NumPy format for NumPy-based network\n",
    "X_train_np = train_dataset.data.numpy().reshape(-1, 784) / 255.0  # Flatten images, normalize to [0,1]\n",
    "Y_train_np = train_dataset.targets.numpy()\n",
    "\n",
    "X_test_np = test_dataset.data.numpy().reshape(-1, 784) / 255.0  # Flatten images, normalize to [0,1]\n",
    "Y_test_np = test_dataset.targets.numpy()\n",
    "\n",
    "visualize_samples(train_dataset, num_samples=10)\n",
    "\n",
    "print(f\"Train Set: {X_train_np.shape}, Test Set: {X_test_np.shape}\")"
   ],
   "metadata": {
    "collapsed": false,
    "is_executing": true
   },
   "id": "45bac3411256bef8"
  },
  {
   "cell_type": "code",
   "execution_count": null,
   "outputs": [],
   "source": [
    "pytorch_model = PyTorchModel()\n",
    "pytorch_accuracies = train_pytorch_model(pytorch_model, train_loader, 500)"
   ],
   "metadata": {
    "collapsed": false,
    "is_executing": true
   },
   "id": "20b27f8e409dd6e9"
  },
  {
   "cell_type": "code",
   "execution_count": null,
   "outputs": [],
   "source": [
    "# def train_pytorch_model(model, train_loader, epochs=100, learning_rate=0.1):\n",
    "#     criterion = nn.CrossEntropyLoss()  # Loss function\n",
    "#     optimizer = optim.SGD(model.parameters(), lr=learning_rate)  # SGD Optimizer\n",
    "# \n",
    "#     accuracies = []\n",
    "# \n",
    "#     for epoch in range(epochs):\n",
    "#         correct, total = 0, 0\n",
    "#         for images, labels in train_loader:\n",
    "#             images = images.view(-1, 784)  # Flatten images\n",
    "#             optimizer.zero_grad()  # Clear gradients\n",
    "#             \n",
    "#             outputs = model(images)  # Forward pass\n",
    "#             loss = criterion(outputs, labels)  # Compute loss\n",
    "#             \n",
    "#             loss.backward()  # Backpropagation\n",
    "#             optimizer.step()  # Update weights\n",
    "#             \n",
    "#             # Track accuracy\n",
    "#             _, predicted = torch.max(outputs, 1)\n",
    "#             total += labels.size(0)\n",
    "#             correct += (predicted == labels).sum().item()\n",
    "# \n",
    "#         accuracy = correct / total\n",
    "#         accuracies.append(accuracy)\n",
    "# \n",
    "#         if epoch % 10 == 0:\n",
    "#             print(f\"PyTorch Model - Epoch {epoch}, Accuracy: {accuracy:.4f}\")\n",
    "#     \n",
    "#     return accuracies\n",
    "# \n",
    "# # Train PyTorch model\n",
    "# pytorch_accuracies = train_pytorch_model(pytorch_model, train_loader)\n"
   ],
   "metadata": {
    "collapsed": false,
    "is_executing": true
   },
   "id": "ea152c5a41bfe8e6"
  },
  {
   "cell_type": "code",
   "execution_count": null,
   "outputs": [],
   "source": [
    "\n",
    "W1, b1, W2, b2 = gradient_descent(X_train_np.T, Y_train_np, 0.1, 500)\n"
   ],
   "metadata": {
    "collapsed": false,
    "is_executing": true
   },
   "id": "9f1c39f0c54971a5"
  },
  {
   "cell_type": "code",
   "execution_count": null,
   "outputs": [],
   "source": [
    "# def evaluate_numpy_model(W1, b1, W2, b2, X_test, Y_test):\n",
    "#     _, _, _, A2 = forward_prop(W1, b1, W2, b2, X_test.T)\n",
    "#     predictions = get_predictions(A2)\n",
    "#     accuracy = get_accuracy(predictions, Y_test)\n",
    "#     print(f\"NumPy Model Test Accuracy: {accuracy:.4f}\")\n",
    "#     return accuracy\n",
    "# \n",
    "# numpy_test_accuracy = evaluate_numpy_model(W1, b1, W2, b2, X_test_np, Y_test_np)\n",
    "# \n",
    "# def evaluate_pytorch_model(model, test_loader):\n",
    "#     correct, total = 0, 0\n",
    "#     with torch.no_grad():\n",
    "#         for images, labels in test_loader:\n",
    "#             images = images.view(-1, 784)\n",
    "#             outputs = model(images)\n",
    "#             _, predicted = torch.max(outputs, 1)\n",
    "#             total += labels.size(0)\n",
    "#             correct += (predicted == labels).sum().item()\n",
    "#     \n",
    "#     accuracy = correct / total\n",
    "#     print(f\"PyTorch Model Test Accuracy: {accuracy:.4f}\")\n",
    "#     return accuracy\n",
    "# \n",
    "# pytorch_test_accuracy = evaluate_pytorch_model(pytorch_model, test_loader)\n",
    "# def evaluate_numpy_model(W1, b1, W2, b2, X_test, Y_test):\n",
    "#     \"\"\"\n",
    "#     Evaluates the NumPy model, prints accuracy, and returns predictions.\n",
    "# \n",
    "#     Args:\n",
    "#         W1, b1, W2, b2: Trained model parameters.\n",
    "#         X_test (np.ndarray): Test dataset features.\n",
    "#         Y_test (np.ndarray): True labels.\n",
    "# \n",
    "#     Returns:\n",
    "#         float: Accuracy\n",
    "#         np.ndarray: Model predictions\n",
    "#     \"\"\"\n",
    "#     _, _, _, A2 = forward_prop(W1, b1, W2, b2, X_test.T)\n",
    "#     predictions = get_predictions(A2)\n",
    "#     accuracy = get_accuracy(predictions, Y_test)\n",
    "#     print(f\"NumPy Model Test Accuracy: {accuracy:.4f}\")\n",
    "#     return accuracy, predictions\n",
    "\n",
    "\n",
    "# def evaluate_pytorch_model(model, test_loader):\n",
    "#     \"\"\"\n",
    "#     Evaluates the PyTorch model, prints accuracy, and returns predictions.\n",
    "# \n",
    "#     Args:\n",
    "#         model (torch.nn.Module): Trained PyTorch model.\n",
    "#         test_loader (DataLoader): PyTorch DataLoader for test dataset.\n",
    "# \n",
    "#     Returns:\n",
    "#         float: Accuracy\n",
    "#         np.ndarray: Model predictions\n",
    "#     \"\"\"\n",
    "#     correct, total = 0, 0\n",
    "#     all_predictions = []\n",
    "#     all_labels = []\n",
    "# \n",
    "#     with torch.no_grad():\n",
    "#         for images, labels in test_loader:\n",
    "#             images = images.view(-1, 784)  # Flatten images\n",
    "#             outputs = model(images)\n",
    "#             _, predicted = torch.max(outputs, 1)\n",
    "# \n",
    "#             all_predictions.extend(predicted.numpy())  # Collect predictions\n",
    "#             all_labels.extend(labels.numpy())  # Collect actual labels\n",
    "# \n",
    "#             total += labels.size(0)\n",
    "#             correct += (predicted == labels).sum().item()\n",
    "# \n",
    "#     accuracy = correct / total\n",
    "#     print(f\"PyTorch Model Test Accuracy: {accuracy:.4f}\")\n",
    "#     return accuracy, np.array(all_predictions), np.array(all_labels)\n",
    "\n"
   ],
   "metadata": {
    "collapsed": false,
    "is_executing": true
   },
   "id": "3f7b6a850582a5fe"
  },
  {
   "cell_type": "code",
   "execution_count": null,
   "outputs": [],
   "source": [
    "# def plot_heatmap(y_true, y_pred, model_name=\"Model\"):\n",
    "#     \"\"\"\n",
    "#     Generates and plots a confusion matrix heatmap for classification performance.\n",
    "#     \"\"\"\n",
    "#     cm = confusion_matrix(y_true, y_pred)  # Compute confusion matrix\n",
    "#     plt.figure(figsize=(8, 6))\n",
    "#     sns.heatmap(cm, annot=True, fmt=\"d\", cmap=\"coolwarm\", xticklabels=range(10), yticklabels=range(10))\n",
    "#     plt.xlabel(\"Predicted Labels\")\n",
    "#     plt.ylabel(\"Actual Labels\")\n",
    "#     plt.title(f\"Confusion Matrix - {model_name}\")\n",
    "#     plt.show()\n",
    "# \n",
    "#     # Print classification report\n",
    "#     print(f\"Classification Report for {model_name}:\")\n",
    "#     print(classification_report(y_true, y_pred))\n"
   ],
   "metadata": {
    "collapsed": false,
    "is_executing": true
   },
   "id": "23f0fd7e568d5ab5"
  },
  {
   "cell_type": "code",
   "execution_count": null,
   "outputs": [],
   "source": [
    "# Evaluate NumPy Model\n",
    "numpy_test_accuracy, numpy_predictions = evaluate_numpy_model(W1, b1, W2, b2, X_test_np, Y_test_np)\n",
    "\n",
    "# Evaluate PyTorch Model\n",
    "pytorch_test_accuracy, pytorch_predictions, pytorch_labels = evaluate_pytorch_model(pytorch_model, test_loader)\n",
    "\n",
    "# Plot Heatmaps\n",
    "plot_heatmap(Y_test_np, numpy_predictions, model_name=\"NumPy Model\")\n",
    "plot_heatmap(pytorch_labels, pytorch_predictions, model_name=\"PyTorch Model\")\n",
    "\n"
   ],
   "metadata": {
    "collapsed": false,
    "is_executing": true
   },
   "id": "678953c370a1d902"
  },
  {
   "cell_type": "code",
   "execution_count": null,
   "outputs": [],
   "source": [
    "\n"
   ],
   "metadata": {
    "collapsed": false,
    "is_executing": true
   },
   "id": "622f2b5e56ad560"
  },
  {
   "cell_type": "markdown",
   "source": [],
   "metadata": {
    "collapsed": false
   },
   "id": "4f3bd734355e3992"
  }
 ],
 "metadata": {
  "kernelspec": {
   "display_name": "Python 3",
   "language": "python",
   "name": "python3"
  },
  "language_info": {
   "codemirror_mode": {
    "name": "ipython",
    "version": 2
   },
   "file_extension": ".py",
   "mimetype": "text/x-python",
   "name": "python",
   "nbconvert_exporter": "python",
   "pygments_lexer": "ipython2",
   "version": "2.7.6"
  }
 },
 "nbformat": 4,
 "nbformat_minor": 5
}
